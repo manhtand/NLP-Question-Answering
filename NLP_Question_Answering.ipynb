{
 "cells": [
  {
   "cell_type": "code",
   "execution_count": 1,
   "id": "15117f86",
   "metadata": {},
   "outputs": [],
   "source": [
    "import pandas as pd\n",
    "import csv\n",
    "import spacy\n",
    "from spacy import displacy\n",
    "\n",
    "nlp = spacy.load(\"en_core_web_lg\")\n",
    "\n",
    "train_data = pd.read_csv('data/QA_train_data.csv',\n",
    "                        encoding='utf8',\n",
    "                        delimiter=',',\n",
    "                        quotechar='\"',\n",
    "                        quoting=csv.QUOTE_MINIMAL)\n",
    "test_data = pd.read_csv('data/QA_test_data.csv',\n",
    "                        encoding='utf8',\n",
    "                        delimiter=',',\n",
    "                        quotechar='\"',\n",
    "                        quoting=csv.QUOTE_MINIMAL)"
   ]
  },
  {
   "cell_type": "code",
   "execution_count": 2,
   "id": "ff7c1f17",
   "metadata": {},
   "outputs": [],
   "source": [
    "questions = train_data['Question']\n",
    "answers = train_data[\"Answer\"]\n",
    "qa_dict = {question: answer for question, answer in zip(questions, answers)}\n",
    "\n",
    "processed_questions = [nlp(q) for q in questions]\n",
    "\n",
    "test_questions = test_data['Question']\n",
    "test_answers = test_data['Answer']\n",
    "test_dict = {question: answer for question, answer in zip(test_questions, test_answers)}"
   ]
  },
  {
   "cell_type": "code",
   "execution_count": 3,
   "id": "6055737d",
   "metadata": {},
   "outputs": [],
   "source": [
    "def find_most_similar_question(test_question, questions):\n",
    "    similarity_scores = []\n",
    "    most_similar_questions = []\n",
    "    doc = nlp(test_question)\n",
    "    \n",
    "    for question in questions:\n",
    "        question_doc = nlp(question)\n",
    "        similarity_scores.append(doc.similarity(question_doc))\n",
    "        \n",
    "    most_similar_index = similarity_scores.index(max(similarity_scores))\n",
    "    most_similar_question = questions[most_similar_index]\n",
    "    return most_similar_question"
   ]
  },
  {
   "cell_type": "code",
   "execution_count": 4,
   "id": "27711f7b",
   "metadata": {},
   "outputs": [],
   "source": [
    "def find_answer(test_question, qa_dict):\n",
    "    answer = qa_dict.get(find_most_similar_question(test_question, questions))\n",
    "    return answer"
   ]
  },
  {
   "cell_type": "code",
   "execution_count": 5,
   "id": "09876927",
   "metadata": {},
   "outputs": [],
   "source": [
    "def evaluate_result(test_questions):\n",
    "    score = 0\n",
    "    for test_question in test_questions:\n",
    "        if test_dict.get(test_question) == find_answer(test_question, qa_dict):\n",
    "            score += 1\n",
    "            \n",
    "    return score / len(test_questions)"
   ]
  },
  {
   "cell_type": "code",
   "execution_count": 6,
   "id": "fb4f6794",
   "metadata": {},
   "outputs": [
    {
     "name": "stdout",
     "output_type": "stream",
     "text": [
      "From which country is the film A Beautiful Mind? | America\n",
      "Where was the film A Beautiful Mind made? | 2001\n",
      "In which country was the film A Beautiful Mind made? | 2001\n",
      "Where was the movie A Beautiful Mind made? | 2001\n",
      "From which country is the film? | Russell Crowe, along with Ed Harris, Jennifer Connelly, Paul Bettany, Adam Goldberg, Judd Hirsch, Josh Lucas, Anthony Rapp, and Christopher Plummer in supporting roles\n",
      "From which country is this film? | Russell Crowe, along with Ed Harris, Jennifer Connelly, Paul Bettany, Adam Goldberg, Judd Hirsch, Josh Lucas, Anthony Rapp, and Christopher Plummer in supporting roles\n",
      "When was the film A beautiful Mind released? | 2001\n",
      "Of which genre is the film A Beautiful Mind? | biographical drama\n",
      "Which kind of film is  A Beautiful Mind? | biographical drama\n",
      "Which type of movie is  A Beautiful Mind? | biographical drama\n",
      "What is John Nash's profession? | mathematician\n",
      "What is John Nash's job? | mathematician\n",
      "Which prices did John Nash win? | Nobel price in Economics and Abel Prize\n",
      "Which awards did John Nash win? | Nobel price in Economics and Abel Prize\n",
      "Which prices was John Nash awarded? | mathematician\n",
      "By which book was the film inspired? | the bestselling Pulitzer Prize-nominated 1998 book of the same name by Sylvia Nasar\n",
      "Which book is the basis of the film? | Russell Crowe, along with Ed Harris, Jennifer Connelly, Paul Bettany, Adam Goldberg, Judd Hirsch, Josh Lucas, Anthony Rapp, and Christopher Plummer in supporting roles\n",
      "Who is acting in the film? | Russell Crowe, along with Ed Harris, Jennifer Connelly, Paul Bettany, Adam Goldberg, Judd Hirsch, Josh Lucas, Anthony Rapp, and Christopher Plummer in supporting roles\n",
      "Who are the actors in the film? | Russell Crowe, along with Ed Harris, Jennifer Connelly, Paul Bettany, Adam Goldberg, Judd Hirsch, Josh Lucas, Anthony Rapp, and Christopher Plummer in supporting roles\n",
      "Who is starring in this film? | Russell Crowe, along with Ed Harris, Jennifer Connelly, Paul Bettany, Adam Goldberg, Judd Hirsch, Josh Lucas, Anthony Rapp, and Christopher Plummer in supporting roles\n",
      "Who is acting in the movie? | Russell Crowe, along with Ed Harris, Jennifer Connelly, Paul Bettany, Adam Goldberg, Judd Hirsch, Josh Lucas, Anthony Rapp, and Christopher Plummer in supporting roles\n",
      "At which university was Nash a graduate student? | Princeton University\n",
      "Where did John Nash graduate? | Nobel price in Economics and Abel Prize\n",
      "Where did John Nash get his university degree? | paranoid schizophrenia\n",
      "What disease did Nash develop? | paranoid schizophrenia\n",
      "What illness did John Nash have? | paranoid schizophrenia\n",
      "Which disorder did Nash suffer from? | paranoid schizophrenia\n",
      "When did the film open in the United states? | December 21, 2001\n",
      "When was the film released? | 2001\n",
      "When was the movie released? | 2001\n",
      "When was the movie first released in the US? | December 21, 2001\n",
      "How much did the film gross? | over $313 million worldwide\n",
      "What was the total revenue of the film? | December 21, 2001\n",
      "What was the  revenue of the movie? | December 21, 2001\n",
      "How many Academy Awards did the film win? | four\n",
      "How many Oscars did the film win? | four\n",
      "How many Oscars was the movie awarded? | four\n",
      "Did the film win  an Academy Award? | yes\n",
      "Did the film win an Oscar? | yes\n",
      "Was the film awarded an Oscar? | yes\n",
      "Was the movie awarded at least one Oscar? | Princeton University\n",
      "When does the story begin? | over $313 million worldwide\n",
      "What is the name of Nash’s wife? | mathematician\n",
      "Which awards did the movie A Beautiful Mind win? | 2001\n"
     ]
    }
   ],
   "source": [
    "for question in test_questions:\n",
    "    print(question, \"|\", find_answer(question, qa_dict))"
   ]
  },
  {
   "cell_type": "code",
   "execution_count": 7,
   "id": "386cdca0",
   "metadata": {},
   "outputs": [
    {
     "name": "stdout",
     "output_type": "stream",
     "text": [
      "Score:  0.6136363636363636\n"
     ]
    }
   ],
   "source": [
    "print(\"Score: \", evaluate_result(test_questions))"
   ]
  },
  {
   "cell_type": "code",
   "execution_count": null,
   "id": "03eeca99",
   "metadata": {},
   "outputs": [],
   "source": []
  }
 ],
 "metadata": {
  "kernelspec": {
   "display_name": "Python 3 (ipykernel)",
   "language": "python",
   "name": "python3"
  },
  "language_info": {
   "codemirror_mode": {
    "name": "ipython",
    "version": 3
   },
   "file_extension": ".py",
   "mimetype": "text/x-python",
   "name": "python",
   "nbconvert_exporter": "python",
   "pygments_lexer": "ipython3",
   "version": "3.11.3"
  }
 },
 "nbformat": 4,
 "nbformat_minor": 5
}
